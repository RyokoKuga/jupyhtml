{
 "cells": [
  {
   "cell_type": "code",
   "execution_count": 1,
   "id": "69c9d41d",
   "metadata": {},
   "outputs": [],
   "source": [
    "# jupyhtml_ver.1.0.0\n",
    "\n",
    "import os, sys, subprocess\n",
    "\n",
    "try:\n",
    "    # パス取得\n",
    "    paths = sys.argv[1:]\n",
    "    \n",
    "    for path in paths:\n",
    "        # ディレクトリの移動\n",
    "        os.chdir(os.path.dirname(path))\n",
    "        # html変換\n",
    "        subprocess.run(\"jupyter nbconvert --to html --template full \" + path, shell = True)\n",
    "        # プレビュー\n",
    "        subprocess.run(\"start \" + os.path.splitext(os.path.basename(path))[0] + \".html\", shell = True)\n",
    "        \n",
    "except:\n",
    "    pass"
   ]
  },
  {
   "cell_type": "code",
   "execution_count": null,
   "id": "d61343c5",
   "metadata": {},
   "outputs": [],
   "source": []
  }
 ],
 "metadata": {
  "kernelspec": {
   "display_name": "Python 3",
   "language": "python",
   "name": "python3"
  },
  "language_info": {
   "codemirror_mode": {
    "name": "ipython",
    "version": 3
   },
   "file_extension": ".py",
   "mimetype": "text/x-python",
   "name": "python",
   "nbconvert_exporter": "python",
   "pygments_lexer": "ipython3",
   "version": "3.8.8"
  }
 },
 "nbformat": 4,
 "nbformat_minor": 5
}
